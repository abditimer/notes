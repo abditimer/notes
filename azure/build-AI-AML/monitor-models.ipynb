{
 "cells": [
  {
   "cell_type": "markdown",
   "metadata": {},
   "source": [
    "# Monitoring Models with AML\n",
    "\n",
    "Application Insights is an application performance management service in Azure that enables:\n",
    "- capture\n",
    "- storage\n",
    "- analysis of telemetry data from applications\n",
    "\n",
    "You can use App Insights in to monitor telemetry from any kind of apps, both running in azure and not running in azure. All that is needed is **a low-overhead instrumentation package** that captures & sends telemtry and data to Application Insights. "
   ]
  },
  {
   "cell_type": "markdown",
   "metadata": {},
   "source": [
    "# Enabling App Insights\n",
    "\n",
    "How to log telemtry from an AML WS?  \n",
    "You must have App Insights resource associated with AML ws, you have to configure your aml service to use it for telemtry logging.\n",
    "\n",
    "How to connect AML ws and App Insights?  \n",
    "\n",
    "When creating an AML ws, you can select an azure app insight resourse to associate with the ws. You can find it by viewing the overview page on the ws blade in the portal, or by using the **get_details()** method of the **Workspace** object.\n",
    "\n",
    "```python\n",
    "from azureml.core import Workspace\n",
    "\n",
    "ws = Workspace.from_config()\n",
    "ws.get_details()['applicationInsights']\n",
    "```\n",
    "\n",
    "## Enabling App Insights for a deployed service.\n",
    "\n",
    "When deploying a new real-time inferencing service, you can enable App Insights in the deployment config for the service.\n",
    "```python\n",
    "def_config = AciWebservice.deploy_config(\n",
    "    cpu_cores=1,\n",
    "    memory_gb=1,\n",
    "    enable_app_insights=True\n",
    ")\n",
    "```\n",
    "\n",
    "What if the service is already deployed?\n",
    "No worries, you can still enable an App Insights, by modifying the deployment config for the AKS in the azure portal. Or, you can update any web service by using the SDK:\n",
    "```python\n",
    "service = ws.webservice['my-svc']\n",
    "service.update(enable_app_insights=True)\n",
    "```"
   ]
  },
  {
   "cell_type": "markdown",
   "metadata": {},
   "source": [
    "## Capturing and Viewing telemetry\n",
    "\n",
    "App insights automaticall capture any info written to standard outputs and error logs, and provides a way to query to allow you to view these logs.\n",
    "\n",
    "#### Writing log data\n",
    "You can write any values to standard output log in the scoring script, by using the **print** statement, as shown below:\n",
    "\n",
    "```python\n",
    "def init()\n",
    "    global model\n",
    "    model = joblib.load(Model.get_model_path('my_model'))\n",
    "def run(raw_data):\n",
    "    data = json.loads(raw_data)['data']\n",
    "    predictions = model.predict(data)\n",
    "    log_txt = 'Data:' + str(data) + ' - Predictions:' str(predictions)\n",
    "    print(log_txt)\n",
    "    return predictions.tolist()\n",
    "```\n",
    "\n",
    "AML creates custom dimension in the App Insights data model for the output you write.\n",
    "\n",
    "#### Query logs in App Insights\n",
    "To query the data, you can:\n",
    "- use Log Analytics query interface for App Insights in the portal\n",
    "    - provides SQL like query syntax\n",
    "    \n",
    "example query to return the **timestamp** and **customDimension.Content** fields from log traces that have a message field valye of STDOUT and customDimensions.\n",
    "```SQL\n",
    "---SQL Language\n",
    "traces\n",
    "|where message =='STDOUT'\n",
    "  and customDimensions.['Service Name'] = 'my-svc'\n",
    "| project timestamp, customDimension.Content"
   ]
  }
 ],
 "metadata": {
  "language_info": {
   "codemirror_mode": {
    "name": "ipython",
    "version": 3
   },
   "file_extension": ".py",
   "mimetype": "text/x-python",
   "name": "python",
   "nbconvert_exporter": "python",
   "pygments_lexer": "ipython3",
   "version": 3
  },
  "orig_nbformat": 2
 },
 "nbformat": 4,
 "nbformat_minor": 2
}