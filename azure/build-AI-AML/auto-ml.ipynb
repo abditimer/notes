{
 "cells": [
  {
   "cell_type": "markdown",
   "metadata": {},
   "source": [
    "# Auto ML model selection\n",
    "\n",
    "AutoML allows us to try multiple algorithms and preprocessing transformations on our data. This, alongside the scalable cloud-based compute makes it possible for us to find best performing model of our data.\n",
    "\n",
    "This feature can be run only in an Enterprise version."
   ]
  },
  {
   "cell_type": "markdown",
   "metadata": {},
   "source": [
    "AutoML can be used for Clasification, Regression or Time Series Forecasting.\n",
    "\n",
    "By default, AutoML will randomly select from the full range of algos for a specific task. You can choose to block certain algos from being used if you know your data is not suited to that algo, or you have to comply with a policy that restricts the type of ML you can use in your organisation."
   ]
  },
  {
   "cell_type": "markdown",
   "metadata": {},
   "source": [
    "As well as using randomly selected algos on your data, it can also apply preprocessing transformation on your data. This will improve the performance of the model.\n",
    "\n",
    "It will apply **scaling and normalisation** to numeric data automatically. There is also optional featurisation:\n",
    "- missing value imputation to remove nulls\n",
    "- categorical encoding convert categorical features to numeric indicators\n",
    "- drop high cardinality features such as records\n",
    "- feature engineering"
   ]
  },
  {
   "cell_type": "markdown",
   "metadata": {},
   "source": [
    "Using the AzureML SDK provides with more configurations. You can set the automated experiment options by using the **AutoML** class.\n",
    "\n",
    "```python\n",
    "from azureml.train.automl import AutoMLConfig\n",
    "\n",
    "automl_run_config = RunConfiguration(framework='python')\n",
    "automl_config = AutoMlConfig(\n",
    "    name='Automated ML experiment',\n",
    "    task='classification',\n",
    "    primary_metric='AUC_weighted',\n",
    "    compute_target='aml-compute',\n",
    "    training_data=train_dataset,\n",
    "    validation_data=test_dataset,\n",
    "    label_column_name='Label',\n",
    "    featurization='auto',\n",
    "    iterations=12,\n",
    "    max_concurrent_iterations=4\n",
    ")\n",
    "```"
   ]
  },
  {
   "cell_type": "markdown",
   "metadata": {},
   "source": [
    "When using the UI, you can select a ***AML Dataset*** to use. \n",
    "When using the SDK:\n",
    "- specify a ***AML Dataset*** or dataframe of **training data**\n",
    "- optional: specify a second validation data set or df that will be used to validate the model. If it is not provided, AML will apply cross-validation using the training data\n",
    "\n"
   ]
  },
  {
   "cell_type": "markdown",
   "metadata": {},
   "source": [
    "**primary_metric** is one of the more important parameters you need to configure. This is the target performance metric which will determine the optimal model. AML supports a set of named metrics for each type of task. You can retreive them by running the below:"
   ]
  },
  {
   "cell_type": "code",
   "execution_count": null,
   "metadata": {},
   "outputs": [],
   "source": [
    "from azureml.train.automl.utilities import get_primary_metrics\n",
    "get_primary_metrics('classification')"
   ]
  },
  {
   "cell_type": "markdown",
   "metadata": {},
   "source": [
    "You can submit an AutoML experiment by:\n",
    "```python\n",
    "from azureml.core.experiment import Experiment \n",
    "\n",
    "automl_experiment = Experiment(ws, 'automl_experiment')\n",
    "automl_run = automl_experiment.submit(automl_config)\n",
    "```\n",
    "\n",
    "You can monitor the above in the usual way: \n",
    "- in the portal\n",
    "- RunDetails widget"
   ]
  },
  {
   "cell_type": "markdown",
   "metadata": {},
   "source": [
    "You can easily retreive the best model to download or deploy it using:\n",
    "```python\n",
    "best_run, fitted_model = automl_run.get_output()\n",
    "best_run_metrics = best_run.get_metrics()\n",
    "for metric_name in best_run_metrics:\n",
    "    metric = best_run_metrics[metric_name]\n",
    "    print(metric_name, metric)\n",
    "```"
   ]
  },
  {
   "cell_type": "markdown",
   "metadata": {},
   "source": [
    "AutoML uses scikit-learn pipelines to encapsulate preprocessing steps of the model. You can view the preprocessing steps for the fitted model of the best run using:\n",
    "```python\n",
    "for step_ in fitted_model.named_steps:\n",
    "    print(step)\n",
    "```"
   ]
  }
 ],
 "metadata": {
  "language_info": {
   "codemirror_mode": {
    "name": "ipython",
    "version": 3
   },
   "file_extension": ".py",
   "mimetype": "text/x-python",
   "name": "python",
   "nbconvert_exporter": "python",
   "pygments_lexer": "ipython3",
   "version": 3
  },
  "orig_nbformat": 2
 },
 "nbformat": 4,
 "nbformat_minor": 2
}