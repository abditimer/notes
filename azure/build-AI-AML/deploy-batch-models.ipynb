{
 "cells": [
  {
   "cell_type": "markdown",
   "metadata": {},
   "source": [
    "# Deploy batch inference pipelines with AML\n",
    "\n",
    "Batch inferencing is used to apply a model to multiple cases asynchronously - usually sending results to a file/Database. \n",
    "\n",
    "In AML, you create a batch inferencing deployed model by:\n",
    "\n",
    "- creating a pipeline that includes:\n",
    "    - a step to read input data\n",
    "    - load registered model\n",
    "    - predict labels\n",
    "    - write results as outputs"
   ]
  },
  {
   "cell_type": "markdown",
   "metadata": {},
   "source": [
    "## Creating a batch inference pipeline\n",
    "\n",
    "Steps:  \n",
    "-  Register the model  \n",
    "    - register using **register** method of Model object or **register_model** of Run object\n",
    "-  Create scoring script  \n",
    "    - must include two functions:\n",
    "        - init()\n",
    "            - called when pipeline is initialised \n",
    "            - loads model from model registry\n",
    "        - run(mini_batch) \n",
    "            - called for each batch of data to be processed\n",
    "            - generate predictions from each batch of data and return results\n",
    "- Create pipeline with ParallelRunStep  \n",
    "    - use `ParallelRunStep` class\n",
    "    -  setting output_action to 'append_row', will enforce that all outputs from parallel runs will collate results to a single output file\n",
    "    - outputs are combined into a parallel_run_step.txt file\n",
    "- Run pipeline and retrieve step output\n",
    "    - wait for pipeline to run, and retrieve output from parallel_run_step.txt file\n"
   ]
  },
  {
   "cell_type": "markdown",
   "metadata": {},
   "source": [
    "## Publishing a Batch inferencing pipeline\n",
    "\n",
    "publish a batch pipeline as a Rest service. use the `publish_pipeline` method of your experiment."
   ]
  }
 ],
 "metadata": {
  "language_info": {
   "codemirror_mode": {
    "name": "ipython",
    "version": 3
   },
   "file_extension": ".py",
   "mimetype": "text/x-python",
   "name": "python",
   "nbconvert_exporter": "python",
   "pygments_lexer": "ipython3",
   "version": 3
  },
  "orig_nbformat": 2
 },
 "nbformat": 4,
 "nbformat_minor": 2
}