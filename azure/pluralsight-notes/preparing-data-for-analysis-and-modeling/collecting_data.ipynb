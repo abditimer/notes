{
 "cells": [
  {
   "cell_type": "markdown",
   "metadata": {},
   "source": [
    "# Collecting and understanding data"
   ]
  },
  {
   "cell_type": "markdown",
   "metadata": {},
   "source": [
    "## Transactional & Analytical Processing\n",
    "\n",
    "Difference between transactional and analytical processing:\n",
    "\n",
    "Markdown | Less\n",
    "----- | --- \n",
    "Ensure correctness of entries   | analyse large batches of data\n",
    "access to recent data   | access to historical data\n",
    "updates data    | reads data\n",
    "fast real-time access   | long running jobs\n",
    "usually single data source  | multiple data sources "
   ]
  },
  {
   "cell_type": "markdown",
   "metadata": {},
   "source": [
    "## 3 V's of Big Data\n",
    "\n",
    "- Volume: Amount of data\n",
    "- Variety: number & type of sources\n",
    "- Velocity: batch & streaming"
   ]
  },
  {
   "cell_type": "markdown",
   "metadata": {},
   "source": [
    "## Scaling\n",
    "\n",
    "- Vertical Scaling: make server more powerful\n",
    "    - monolithic architecture\n",
    "    - no need for orchestration\n",
    "    - no need to shard data\n",
    "    - no need to replicate data\n",
    "    - easy to ensure consistency\n",
    "    - offers strong consistency\n",
    "    - ACID support \n",
    "    - usually used in OLTP apps\n",
    "- Horizontal Scaling: add more servers\n",
    "    - uses distributed architecture\n",
    "    - orchastration requires\n",
    "    - need shard data between sources\n",
    "    - replicate data realtime\n",
    "    - hard to keep consistency\n",
    "    - offer eventual consistency\n",
    "    - ACID support hard to provide\n",
    "    - used in OLAP apps (online analytical processing)"
   ]
  },
  {
   "cell_type": "markdown",
   "metadata": {},
   "source": [
    "## Strong and Eventual Consistency \n",
    "\n",
    "Powerful machines provide Strong consistency (as data has to be updated in a single place), however, horizontally scaled machines tend to provide Eventaul consistency (data needs to be copied to replicas). "
   ]
  },
  {
   "cell_type": "markdown",
   "metadata": {},
   "source": [
    "## Streaming Datasets\n",
    "\n",
    "### Event time and Processing Time \n",
    "\n",
    "- Event time\n",
    "    - time at which original event occured that was streamed into our system\n",
    "    - time at which the event occured at the original source(e.g. a phone/tweet)\n",
    "    gives correct results in case of out of order/late event\n",
    "- Ingestion time\n",
    "    - time at which event is ingested into our system \n",
    "    - time event enters our system - assigned by system \n",
    "    - when seen and ingested by our system\n",
    "- processing time\n",
    "    - system time of machine that processes the event"
   ]
  }
 ],
 "metadata": {
  "language_info": {
   "codemirror_mode": {
    "name": "ipython",
    "version": 3
   },
   "file_extension": ".py",
   "mimetype": "text/x-python",
   "name": "python",
   "nbconvert_exporter": "python",
   "pygments_lexer": "ipython3",
   "version": 3
  },
  "orig_nbformat": 2
 },
 "nbformat": 4,
 "nbformat_minor": 2
}