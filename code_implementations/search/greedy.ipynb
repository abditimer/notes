{
 "metadata": {
  "language_info": {
   "codemirror_mode": {
    "name": "ipython",
    "version": 3
   },
   "file_extension": ".py",
   "mimetype": "text/x-python",
   "name": "python",
   "nbconvert_exporter": "python",
   "pygments_lexer": "ipython3",
   "version": "3.7.7-final"
  },
  "orig_nbformat": 2,
  "kernelspec": {
   "name": "python_defaultSpec_1597936885646",
   "display_name": "Python 3.7.7 64-bit ('dsconda': conda)"
  }
 },
 "nbformat": 4,
 "nbformat_minor": 2,
 "cells": [
  {
   "cell_type": "markdown",
   "metadata": {},
   "source": [
    "# The Greed\n",
    "\n",
    "This notebook will look at the Greedy algorithm.\n",
    "\n",
    "Lets imagine we are at a shop, and we are planning to do our weekly shopping. The only problem is, we have limited strength, so there is a weight limit to what we can carry in our basket. From the shop, we want to buy as many things as we want! How do we decide what to buy? Do we buy the 1 heaviest item, or do we carry 100 light sweets? \n",
    "\n",
    "Lets begin by creating an object representing a shop item"
   ]
  },
  {
   "cell_type": "code",
   "execution_count": 5,
   "metadata": {
    "tags": []
   },
   "outputs": [
    {
     "output_type": "stream",
     "name": "stdout",
     "text": "Use greedy by happy points to allocate 1000  weight.\nTotal value of items taken = 424.0\n    burger: <100, 354\n    pizza: <95, 258\n    beer: <90, 154\n    wine: <89, 123\n    apple: <50, 95\n"
    }
   ],
   "source": [
    "class Item(object):\n",
    "    '''This represents an item in the store.\n",
    "    '''\n",
    "    def __init__(self, name, happy_points, weight):\n",
    "        self.name = name \n",
    "        self.happy_points = happy_points \n",
    "        self.weight = weight \n",
    "    \n",
    "    def get_happy_points(self):\n",
    "        return self.happy_points \n",
    "    def get_weight(self):\n",
    "        return self.weight\n",
    "    def density(self):\n",
    "        return self.get_happy_points() / self.get_weight()\n",
    "    def __str__(self):\n",
    "        return self.name + ': <' + str(self.happy_points) \\\n",
    "                    + ', ' + str(self.weight)\n",
    "\n",
    "def build_items_in_shop(names, happy_points, weights):\n",
    "    menu = []\n",
    "    for i in range(len(happy_points)):\n",
    "        menu.append(Item(names[i], happy_points[i], weights[i]))\n",
    "    return menu \n",
    "\n",
    "def greedy_algo(items, max_cost, key_function):\n",
    "    '''Assume items a list, maxCost >= 0,\n",
    "    keyFunction maps elements of items to numbers\n",
    "    '''\n",
    "    items_sorted = sorted(items, key= key_function, reverse=True)\n",
    "\n",
    "    result = []\n",
    "    total_value, total_cost = 0.0, 0.0\n",
    "    for i in range(len(items_sorted)):\n",
    "        if (total_cost + items_sorted[i].get_weight()) <= max_cost:\n",
    "            result.append(items_sorted[i])\n",
    "            total_cost += items_sorted[i].get_weight()\n",
    "            total_value += items_sorted[i].get_happy_points()\n",
    "    return (result, total_value)\n",
    "\n",
    "\n",
    "def testGreedy(items, constraint, key_function):\n",
    "    taken, val = greedy_algo(items, constraint, key_function)\n",
    "    print('Total value of items taken =', val)\n",
    "    for item in taken:\n",
    "        print('   ', item)\n",
    "\n",
    "def testGreedys(foods, max_units):\n",
    "    print('Use greedy by happy points to allocate', max_units,\n",
    "          ' weight.')\n",
    "    testGreedy(foods, max_units, Item.get_happy_points)\n",
    "\n",
    "    # print('\\nUse greedy by cost to allocate', maxUnits,\n",
    "    #       'calories')\n",
    "    # testGreedy(foods, maxUnits,\n",
    "    #            lambda x: 1/Food.getCost(x))\n",
    "\n",
    "    # print('\\nUse greedy by density to allocate', maxUnits,\n",
    "    #       'calories')\n",
    "    # testGreedy(foods, maxUnits, Food.density)\n",
    "\n",
    "\n",
    "food_items_names = ['wine', 'beer', 'pizza', 'burger', 'fries',\n",
    "         'cola', 'apple', 'donut', 'cake']\n",
    "food_items_happy_points = [89,90,95,100,90,79,50,10]\n",
    "food_items_weight = [123,154,258,354,365,150,95,195]\n",
    "\n",
    "foods = build_items_in_shop(food_items_names, food_items_happy_points, food_items_weight)\n",
    "\n",
    "testGreedys(foods, 1000)\n"
   ]
  }
 ]
}